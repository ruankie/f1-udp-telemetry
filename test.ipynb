{
 "cells": [
  {
   "cell_type": "code",
   "execution_count": 3,
   "metadata": {},
   "outputs": [],
   "source": [
    "import socket"
   ]
  },
  {
   "cell_type": "code",
   "execution_count": 4,
   "metadata": {},
   "outputs": [],
   "source": [
    "UDP_IP = \"192.168.3.11\" # UDP listen IP-address\n",
    "# UDP_IP = \"127.0.0.1\" # UDP listen IP-address\n",
    "UDP_PORT = 20777 # UDP listen port\n",
    "PACKET_SIZE = 1289 # Amount of bytes in packet"
   ]
  },
  {
   "cell_type": "code",
   "execution_count": 5,
   "metadata": {},
   "outputs": [
    {
     "ename": "OSError",
     "evalue": "[WinError 10049] The requested address is not valid in its context",
     "output_type": "error",
     "traceback": [
      "\u001b[1;31m---------------------------------------------------------------------------\u001b[0m",
      "\u001b[1;31mOSError\u001b[0m                                   Traceback (most recent call last)",
      "\u001b[1;32mc:\\GitHub\\f1-udp-telemetry\\test.ipynb Cell 3\u001b[0m in \u001b[0;36m<cell line: 2>\u001b[1;34m()\u001b[0m\n\u001b[0;32m      <a href='vscode-notebook-cell:/c%3A/GitHub/f1-udp-telemetry/test.ipynb#W2sZmlsZQ%3D%3D?line=0'>1</a>\u001b[0m udp \u001b[39m=\u001b[39m socket\u001b[39m.\u001b[39msocket(socket\u001b[39m.\u001b[39mAF_INET, socket\u001b[39m.\u001b[39mSOCK_DGRAM) \u001b[39m# Create UDP Socket\u001b[39;00m\n\u001b[1;32m----> <a href='vscode-notebook-cell:/c%3A/GitHub/f1-udp-telemetry/test.ipynb#W2sZmlsZQ%3D%3D?line=1'>2</a>\u001b[0m udp\u001b[39m.\u001b[39;49mbind((UDP_IP, UDP_PORT)) \u001b[39m# Bind socket to IP and port\u001b[39;00m\n\u001b[0;32m      <a href='vscode-notebook-cell:/c%3A/GitHub/f1-udp-telemetry/test.ipynb#W2sZmlsZQ%3D%3D?line=2'>3</a>\u001b[0m \u001b[39mprint\u001b[39m (\u001b[39m\"\u001b[39m\u001b[39mF1 Telemetry ready\u001b[39m\u001b[39m\"\u001b[39m) \u001b[39m# Show we're ready\u001b[39;00m\n\u001b[0;32m      <a href='vscode-notebook-cell:/c%3A/GitHub/f1-udp-telemetry/test.ipynb#W2sZmlsZQ%3D%3D?line=3'>4</a>\u001b[0m \u001b[39mprint\u001b[39m (\u001b[39m\"\u001b[39m\u001b[39mListening on \u001b[39m\u001b[39m\"\u001b[39m \u001b[39m+\u001b[39m UDP_IP \u001b[39m+\u001b[39m \u001b[39m\"\u001b[39m\u001b[39m:\u001b[39m\u001b[39m\"\u001b[39m \u001b[39m+\u001b[39m \u001b[39mstr\u001b[39m(UDP_PORT))\n",
      "\u001b[1;31mOSError\u001b[0m: [WinError 10049] The requested address is not valid in its context"
     ]
    }
   ],
   "source": [
    "udp = socket.socket(socket.AF_INET, socket.SOCK_DGRAM) # Create UDP Socket\n",
    "udp.bind((UDP_IP, UDP_PORT)) # Bind socket to IP and port\n",
    "print (\"F1 Telemetry ready\") # Show we're ready\n",
    "print (\"Listening on \" + UDP_IP + \":\" + str(UDP_PORT)) # Show IP and port"
   ]
  },
  {
   "cell_type": "code",
   "execution_count": null,
   "metadata": {},
   "outputs": [],
   "source": []
  }
 ],
 "metadata": {
  "kernelspec": {
   "display_name": "Python 3.9.13 ('py39-lean')",
   "language": "python",
   "name": "python3"
  },
  "language_info": {
   "codemirror_mode": {
    "name": "ipython",
    "version": 3
   },
   "file_extension": ".py",
   "mimetype": "text/x-python",
   "name": "python",
   "nbconvert_exporter": "python",
   "pygments_lexer": "ipython3",
   "version": "3.9.13"
  },
  "orig_nbformat": 4,
  "vscode": {
   "interpreter": {
    "hash": "3064929f67b0afe297f894f3c723b4f5bbd6c9de31e83a0a5be6076ebefcf2f0"
   }
  }
 },
 "nbformat": 4,
 "nbformat_minor": 2
}
